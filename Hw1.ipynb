{
 "cells": [
  {
   "cell_type": "code",
   "execution_count": 1,
   "metadata": {},
   "outputs": [],
   "source": [
    "import numpy as np\n",
    "import matplotlib.pyplot as plt\n",
    "from sklearn import datasets, linear_model\n",
    "from sklearn.datasets import fetch_openml\n",
    "import matplotlib as mpl\n",
    "import pandas as pd"
   ]
  },
  {
   "cell_type": "markdown",
   "metadata": {},
   "source": [
    "H1.1"
   ]
  },
  {
   "cell_type": "code",
   "execution_count": 2,
   "metadata": {
    "scrolled": true
   },
   "outputs": [
    {
     "name": "stdout",
     "output_type": "stream",
     "text": [
      "3 selected coins: \n",
      " [[1 1 0 0 0 0 0 0 1 0]\n",
      " [1 0 0 1 1 1 1 0 1 0]\n",
      " [0 0 0 0 0 0 0 0 0 0]]\n"
     ]
    }
   ],
   "source": [
    "coins = np.random.randint(2, size=(1000,10)) # Flip 1000 coins 10 times\n",
    "numHeads = np.sum(coins,axis=1) # Heads are 1 and tails are 0, so counting ones will count number of heads\n",
    "minIndex = np.argmin(numHeads) # Find the coin which had lowest occurence of heads.\n",
    "randIndex = np.random.randint(1000)\n",
    "C = np.array([coins[0], coins[randIndex], coins[minIndex]])\n",
    "print(\"3 selected coins: \\n\", C)"
   ]
  },
  {
   "cell_type": "markdown",
   "metadata": {},
   "source": [
    "(a) What is the proability of heads for the 3 selected coins?"
   ]
  },
  {
   "cell_type": "code",
   "execution_count": 3,
   "metadata": {},
   "outputs": [
    {
     "name": "stdout",
     "output_type": "stream",
     "text": [
      "Fraction of heads:  [0.3 0.6 0. ]\n",
      "Probability of heads :  0.5\n"
     ]
    }
   ],
   "source": [
    "v = np.array([sum(C[0])/10, sum(C[1])/10, sum(C[2])/10])\n",
    "mu = 0.5 # Probability of a coin flipping to heads is fixed and independent.\n",
    "print(\"Fraction of heads: \", v)\n",
    "print(\"Probability of heads : \", mu)"
   ]
  },
  {
   "cell_type": "markdown",
   "metadata": {},
   "source": [
    "(b) Repeat this entire experiment a large number of times(e.g. 100,000 run of the entire experiment) to get several instances of v1,vrand, and vmin and plot the historgrams of the distributions of v1,vrand, and vmin."
   ]
  },
  {
   "cell_type": "code",
   "execution_count": 4,
   "metadata": {},
   "outputs": [],
   "source": [
    "N = 100000\n",
    "v = np.empty([N,3])"
   ]
  },
  {
   "cell_type": "code",
   "execution_count": 5,
   "metadata": {},
   "outputs": [],
   "source": [
    "for i in range(N):\n",
    "    coins = np.random.randint(2, size=(1000,10)) # Repetition of some thing but N times.\n",
    "    numHeads = np.sum(coins,axis=1)\n",
    "    minIndex = np.argmin(numHeads)\n",
    "    randIndex = np.random.randint(1000)\n",
    "    C = np.array([coins[0], coins[randIndex], coins[minIndex]])\n",
    "    v[i,:] = np.array([sum(C[0])/10, sum(C[1])/10, sum(C[2])/10])"
   ]
  },
  {
   "cell_type": "code",
   "execution_count": 21,
   "metadata": {},
   "outputs": [
    {
     "data": {
      "text/plain": [
       "<matplotlib.legend.Legend at 0x7fc543679b50>"
      ]
     },
     "execution_count": 21,
     "metadata": {},
     "output_type": "execute_result"
    },
    {
     "data": {
      "image/png": "[encoded data removed]",
      "text/plain": [
       "<Figure size 432x288 with 1 Axes>"
      ]
     },
     "metadata": {
      "needs_background": "light"
     },
     "output_type": "display_data"
    }
   ],
   "source": [
    "fig = plt.figure()\n",
    "ax = plt.subplot(111)\n",
    "ax.hist(v, label=['$V_1$', '$V_{rand}$', '$V_{min}$'])\n",
    "ax.set_xlabel('Fraction of heads')\n",
    "ax.legend()"
   ]
  },
  {
   "cell_type": "markdown",
   "metadata": {},
   "source": [
    "  (c)"
   ]
  },
  {
   "cell_type": "code",
   "execution_count": 23,
   "metadata": {},
   "outputs": [],
   "source": [
    "p = np.zeros([3,100])\n",
    "eps = np.linspace(0.01, 1, 100)\n",
    "for i in range(100):\n",
    "    for j in range(N): # Counting when |v - mu| > eps for each v and eps.\n",
    "        if(abs(v[j,0] - mu) > eps[i]):\n",
    "            p[0,i] = p[0,i] + 1\n",
    "        if(abs(v[j,1] - mu) > eps[i]):\n",
    "            p[1,i] = p[1,i] + 1\n",
    "        if(abs(v[j,2] - mu) > eps[i]):\n",
    "            p[2,i] = p[2,i] + 1\n",
    "p = p/N      "
   ]
  },
  {
   "cell_type": "code",
   "execution_count": 24,
   "metadata": {},
   "outputs": [
    {
     "data": {
      "text/plain": [
       "<matplotlib.legend.Legend at 0x7fc54351f8d0>"
      ]
     },
     "execution_count": 24,
     "metadata": {},
     "output_type": "execute_result"
    },
    {
     "data": {
      "image/png": "[encoded data removed]",
      "text/plain": [
       "<Figure size 432x288 with 1 Axes>"
      ]
     },
     "metadata": {
      "needs_background": "light"
     },
     "output_type": "display_data"
    }
   ],
   "source": [
    "fig = plt.figure()\n",
    "ax = plt.subplot(111)\n",
    "ax.plot(eps, p[0,:], label='$c_1$')\n",
    "ax.plot(eps, p[1,:], label='$c_{rand}$')\n",
    "ax.plot(eps, p[2,:], label='$c_{min}$')\n",
    "y = 2*np.exp(-2*(eps**2)*10)\n",
    "ax.plot(eps, y, label='Hoeffding')\n",
    "ax.set_ylim(0,1)\n",
    "ax.set_xlabel('Epsilon')\n",
    "ax.legend()"
   ]
  },
  {
   "cell_type": "markdown",
   "metadata": {},
   "source": [
    "(e)  \n",
    "C<sub>min</sub> is not representative of an average coin and as a result does not obey Hoeffding bound. C<sub>1</sub> and C<sub>rand</sub> are overlapping and obey the bound."
   ]
  },
  {
   "cell_type": "markdown",
   "metadata": {},
   "source": [
    "H1.2  Posterior probability estimation for bin selection problem (curse of dimensionality)."
   ]
  },
  {
   "cell_type": "markdown",
   "metadata": {},
   "source": [
    "(a)  Suppose we have ten bins (four labeled A, six labeled B). Each bin has balls with two colors(red and blue). The distribution of red and blue balls in bin A is (0.3, 0.7). The distributionof red and blue balls in bin B is (0.7, 0.3). We randomly select a bin and draw two balls withreplacement. That is, we select a bin, pick one ball, put it back, and pick another ball from thesamebin. Estimate the probability that we selected bin A given the selected balls are red andblue."
   ]
  },
  {
   "cell_type": "code",
   "execution_count": 9,
   "metadata": {},
   "outputs": [
    {
     "name": "stdout",
     "output_type": "stream",
     "text": [
      "P(A | red & blue) ≅ 0.41538096368383576\n"
     ]
    }
   ],
   "source": [
    "N = 10000\n",
    "C = np.empty([N,3])\n",
    "for i in range(N):\n",
    "    label = np.random.choice(2,1,p=[0.4,0.6])\n",
    "    # 0 is A. 1 is B.\n",
    "    if(label == 0):\n",
    "        A = np.random.choice(2,2,replace=True,p=[0.3, 0.7])\n",
    "        C[i,:] = [A[0], A[1], label]\n",
    "    else:\n",
    "        B = np.random.choice(2,2,replace=True,p=[0.7, 0.3])\n",
    "        C[i,:] = [B[0], B[1], label]\n",
    "    # 0 is red. 1 is blue.\n",
    "\n",
    "countA = 0\n",
    "countB = 0\n",
    "for i in range(N): # Finding ditribution of occurences.\n",
    "    if((C[i,0] != C[i,1]) and (C[i,2] == 0)):\n",
    "        countA = countA + 1\n",
    "    elif((C[i,0] != C[i,1]) and (C[i,2] == 1)):\n",
    "        countB = countB + 1\n",
    "    else:\n",
    "        pass\n",
    "       \n",
    "p = countA/(countB+countA)\n",
    "print('P(A | red & blue) \\u2245', p)"
   ]
  },
  {
   "cell_type": "markdown",
   "metadata": {},
   "source": [
    "(b)  Suppose we have ten bins (four labeled A, six labeled B). Each bin has balls with four colors(red, blue, white, black). The distribution of balls in bin A is (0.1, 0.3, 0.2, 0.4). The distribution of balls in bin B is (0.4, 0.2, 0.3, 0.1). We randomly select a bin and draw two balls with replacement. Estimate the probability that we selected bin A given the selected balls are red and blue."
   ]
  },
  {
   "cell_type": "code",
   "execution_count": 10,
   "metadata": {},
   "outputs": [
    {
     "name": "stdout",
     "output_type": "stream",
     "text": [
      "P(A | red & blue) ≅ 0.20810363836824697\n"
     ]
    }
   ],
   "source": [
    "N = 30000\n",
    "C = np.empty([N,3])\n",
    "for i in range(N):\n",
    "    label = np.random.choice(2,1,p=[0.4,0.6])\n",
    "    # 0 is A. 1 is B.\n",
    "    if(label == 0):\n",
    "        A = np.random.choice(4,2,replace=True,p=[0.1, 0.3, 0.2, 0.4])\n",
    "        C[i,:] = [A[0], A[1], label]\n",
    "    else:\n",
    "        B = np.random.choice(4,2,replace=True,p=[0.4, 0.2, 0.3, 0.1])\n",
    "        C[i,:] = [B[0], B[1], label]\n",
    "    # 0 is red. 1 is blue. 2 is white. 3 is black.\n",
    "\n",
    "countA = 0\n",
    "countB = 0\n",
    "for i in range(N): # [0, 1, 0] corresponds to red, blue, binA. Helps keep track which bins we pulled from.\n",
    "    if((np.array_equal(C[i,:], [0, 1, 0])) or (np.array_equal(C[i,:], [1,0,0]))):\n",
    "        countA = countA + 1\n",
    "    elif((np.array_equal(C[i,:], [0, 1, 1])) or (np.array_equal(C[i,:], [1,0,1]))):\n",
    "        countB = countB + 1\n",
    "    else:\n",
    "        pass\n",
    "    \n",
    "p = countA/(countB+countA)\n",
    "print('P(A | red & blue) \\u2245', p)"
   ]
  },
  {
   "cell_type": "markdown",
   "metadata": {},
   "source": [
    "H1.3 Let us consider the problem of nearest-mean classifier. Suppose we are givenNtraining samples(x1,y1),...,(xN,yN)from two classes withyn∈{+1,−1}. We saw in lecture 2 that we can decide alabel for a test vector x as g(x) =sign(w<sup>T</sup>x+b), where w= 2(μ<sub>+</sub>−μ<sub>−</sub>)and b=‖μ<sub>−</sub>‖<sup>2</sup><sub>2</sub>−‖μ<sub>+</sub>‖<sup>2</sup><sub>2</sub>.  μ<sub>+</sub> is a mean vector for samples in the +ve class and μ<sub>−</sub> is a mean vector for samples the −ve class.  Show that w<sup>T</sup>x+b≡∑<sup>N</sup><sub>n=1</sub>α<sub>n</sub>〈x<sub>n</sub>,x〉+ b and calculate the values of the α<sub>n</sub>."
   ]
  },
  {
   "cell_type": "markdown",
   "metadata": {},
   "source": [
    "〈x<sub>n</sub>,x〉= x<sub>n,1</sub>x<sub>1</sub> + ... + x<sub>n,n</sub>x<sub>n</sub>  \n",
    "W<sup>T</sup>x = w<sub>1</sub>x<sub>1</sub> + ... + w<sub>n</sub>x<sub>n</sub>  \n",
    "  \n",
    "Thus if we can find α<sub>n</sub> for each vector of x such that w<sub>n</sub> = x<sub>n</sub>α<sub>n</sub>, the two equations are equal.  \n",
    "  \n",
    "Given w = 2(μ<sub>+</sub>−μ<sub>−</sub>) we can solve for α.  \n",
    "α<sub>n</sub> = 2 , when x<sub>n</sub> belongs to the + ve class.  \n",
    "α<sub>n</sub> = -2 , when x<sub>n</sub> belongs to the - ve class."
   ]
  },
  {
   "cell_type": "markdown",
   "metadata": {},
   "source": [
    "H1.4 (a) Implement a function that finds the K nearest neighbors of any given test digit, and classifies itaccording to a majority vote of their class labels. Construct a training set with 200 examples ofeach class (N= 600total examples). What is the empirical accuracy (fraction of data classifiedcorrectly) of 1-NN and 3-NN classifiers on the test examples from these classes?"
   ]
  },
  {
   "cell_type": "code",
   "execution_count": 11,
   "metadata": {},
   "outputs": [],
   "source": [
    "mnist = fetch_openml('mnist_784', version=1, cache=False) #fetch_mldata is obsolete, this is the updated implementation\n",
    "mnist.target = mnist.target.astype(np.int8) # Data is stored as string after fetching, so it is converted to a number."
   ]
  },
  {
   "cell_type": "code",
   "execution_count": 12,
   "metadata": {},
   "outputs": [],
   "source": [
    "def Euc_dist(x,y): # Calculates Euclidean Distance.\n",
    "    d_2 = np.sum(np.add(x,-1*y)**2)\n",
    "    d = (d_2)**(1/2)\n",
    "    return d\n",
    "    \n",
    "def KNN(target, t_set, K): # K Nearest Neighbors. target what needs to be classified, t_set(training set)\n",
    "    d = np.zeros((np.size(t_set.data,0),1))\n",
    "    for i in range(np.size(t_set.data, 0)):\n",
    "        d[i] = Euc_dist(target, t_set.data[i])\n",
    "     \n",
    "    # We need to find the K closest vectors to our target.\n",
    "    if(K == 1):\n",
    "        idx = np.argmin(d) \n",
    "        KNeighbors = t_set.label[idx]\n",
    "    else:\n",
    "        idx = np.argpartition(d, K, axis=0)\n",
    "        KNeighbors = t_set.label[idx[:K]]\n",
    "    \n",
    "    x = np.unique(KNeighbors) \n",
    "    \n",
    "    # The target belongs to the class that has the most elements in the K neighbors array.\n",
    "    max_occurences = np.zeros(2)\n",
    "    for i in range(np.size(x)):\n",
    "        count = np.sum(KNeighbors == x[i])\n",
    "        if(count > max_occurences[0]):\n",
    "            max_occurences = np.array([count, x[i]])\n",
    "    return max_occurences # Return (num of occurences, class)\n",
    "        \n",
    "        "
   ]
  },
  {
   "cell_type": "code",
   "execution_count": 13,
   "metadata": {},
   "outputs": [],
   "source": [
    "# Training and test data is created using samples of 8,6, and 1.\n",
    "loc_eight = np.argwhere(mnist.target == 8)\n",
    "loc_six = np.argwhere(mnist.target == 6)\n",
    "loc_one = np.argwhere(mnist.target == 1)\n",
    "train_loc = np.array([loc_eight[:200], loc_six[:200], loc_one[:200]]).flatten()\n",
    "\n",
    "test_loc = np.array([loc_eight[201:401], loc_six[201:401], loc_one[201:401]]).flatten()\n",
    "\n",
    "class training_set:\n",
    "    data = mnist.data[train_loc,:]\n",
    "    label = mnist.target[train_loc]\n",
    "    \n",
    "class test_set:\n",
    "    data = mnist.data[test_loc,:]\n",
    "    label = mnist.target[test_loc]\n"
   ]
  },
  {
   "cell_type": "code",
   "execution_count": 14,
   "metadata": {},
   "outputs": [
    {
     "name": "stdout",
     "output_type": "stream",
     "text": [
      "Accuracy for 1-NN:  98.33333333333333 %\n"
     ]
    }
   ],
   "source": [
    "p = 0\n",
    "N = len(test_set.label)\n",
    "for i in range(N): # Classification of all data in test_set\n",
    "    result = KNN(test_set.data[i], training_set, 1)\n",
    "    if(result[1] == test_set.label[i]): # Count how often it is correct.\n",
    "        p = p + 1\n",
    "p = p/N\n",
    "print(\"Accuracy for 1-NN: \", p*100, \"%\")\n"
   ]
  },
  {
   "cell_type": "code",
   "execution_count": 15,
   "metadata": {},
   "outputs": [
    {
     "name": "stdout",
     "output_type": "stream",
     "text": [
      "Accuracy for 3-NN:  97.33055555555555 %\n"
     ]
    }
   ],
   "source": [
    "for i in range(N):\n",
    "    result = KNN(test_set.data[i], training_set, 3)\n",
    "    if(result[1] == test_set.label[i]):\n",
    "        p = p + 1\n",
    "p = p/N\n",
    "print(\"Accuracy for 3-NN: \", p*100, \"%\")"
   ]
  },
  {
   "cell_type": "markdown",
   "metadata": {},
   "source": [
    "(b) Plot 5 test digits that are correctly classified by the 1-NN classifier, and 5 which are incorrectly classified. Do you see any patterns?"
   ]
  },
  {
   "cell_type": "code",
   "execution_count": 16,
   "metadata": {},
   "outputs": [
    {
     "data": {
      "image/png": "[encoded data removed]",
      "text/plain": [
       "<Figure size 432x288 with 5 Axes>"
      ]
     },
     "metadata": {
      "needs_background": "light"
     },
     "output_type": "display_data"
    },
    {
     "data": {
      "image/png": "[encoded data removed]",
      "text/plain": [
       "<Figure size 432x288 with 5 Axes>"
      ]
     },
     "metadata": {
      "needs_background": "light"
     },
     "output_type": "display_data"
    }
   ],
   "source": [
    "p = 0\n",
    "N = len(test_set.label)\n",
    "k = 0\n",
    "j = 0\n",
    "fig = plt.figure() # Figure for correct classification\n",
    "fig2 = plt.figure() # Figure for incorrect classification\n",
    "# Same code as before but modified to print 5 correct classifications and 5 incorrect ones.\n",
    "for i in range(N):\n",
    "    result = KNN(test_set.data[i], training_set, 1)\n",
    "    if(result[1] == test_set.label[i]):\n",
    "        p = p + 1\n",
    "        if (k < 5):\n",
    "            num = test_set.data[i]\n",
    "            num_image = num.reshape(28,28)\n",
    "            ax = fig.add_subplot(3,3,k+1)\n",
    "            ax.imshow(num_image, cmap = mpl.cm.binary,\n",
    "                        interpolation=\"nearest\")\n",
    "            ax.axis(\"off\")\n",
    "            k = k + 1\n",
    "    else:\n",
    "        if (j < 5):\n",
    "            num = test_set.data[i]\n",
    "            num_image = num.reshape(28,28)\n",
    "            ax = fig2.add_subplot(3,3,j+1)\n",
    "            ax.imshow(num_image, cmap = mpl.cm.binary,\n",
    "                        interpolation=\"nearest\")\n",
    "            ax.axis(\"off\")\n",
    "            j = j + 1\n",
    "fig.suptitle('Correct Matches')\n",
    "fig2.suptitle('Incorrect Matches')\n",
    "plt.show()"
   ]
  },
  {
   "cell_type": "markdown",
   "metadata": {},
   "source": [
    "The images that were correctly classified are likely to have two clearly defined holes. Even more likely, is that they have a consistent line thickness. The images that were incorrectly classified had these features less often."
   ]
  },
  {
   "cell_type": "markdown",
   "metadata": {},
   "source": [
    "H1.5 Linear regression: Implement a solution for house price prediction using Python.  \n",
    "(a) Let us first fit the price based on size because we expect to find some correlation between thetwo. We create two arrays: X (size) and Y (price).The data will be split into a training and testset. We will use the training data to find a best fit line and make predictions on the test data."
   ]
  },
  {
   "cell_type": "code",
   "execution_count": 17,
   "metadata": {},
   "outputs": [
    {
     "data": {
      "image/png": "[encoded data removed]",
      "text/plain": [
       "<Figure size 432x288 with 1 Axes>"
      ]
     },
     "metadata": {},
     "output_type": "display_data"
    }
   ],
   "source": [
    "# Load CSV and columns\n",
    "df = pd.read_csv(\"Housing.csv\")\n",
    "Y = df['price']\n",
    "X = df['lotsize']\n",
    "X = X.values# Split the data into training/testing sets\n",
    "X_train = X[:-250]\n",
    "X_test = X[-250:]# Split the targets into training/testing sets\n",
    "Y_train = Y[:-250]\n",
    "Y_test = Y[-250:]# Plot outputs\n",
    "plt.scatter(X_test, Y_test,  color='black')\n",
    "plt.title('Test Data')\n",
    "plt.xlabel('Size')\n",
    "plt.ylabel('Price')\n",
    "plt.xticks(())\n",
    "plt.yticks(())\n",
    "plt.show()"
   ]
  },
  {
   "cell_type": "code",
   "execution_count": 18,
   "metadata": {},
   "outputs": [
    {
     "ename": "LinAlgError",
     "evalue": "Last 2 dimensions of the array must be square",
     "output_type": "error",
     "traceback": [
      "\u001b[0;31m---------------------------------------------------------------------------\u001b[0m",
      "\u001b[0;31mLinAlgError\u001b[0m                               Traceback (most recent call last)",
      "\u001b[0;32m<ipython-input-18-12c544854bcb>\u001b[0m in \u001b[0;36m<module>\u001b[0;34m\u001b[0m\n\u001b[1;32m      4\u001b[0m \u001b[0mX\u001b[0m \u001b[0;34m=\u001b[0m \u001b[0mxt\u001b[0m\u001b[0;34m*\u001b[0m\u001b[0mx\u001b[0m\u001b[0;34m\u001b[0m\u001b[0;34m\u001b[0m\u001b[0m\n\u001b[1;32m      5\u001b[0m \u001b[0;31m#Xinv = np.linalg.inv(X)\u001b[0m\u001b[0;34m\u001b[0m\u001b[0;34m\u001b[0m\u001b[0;34m\u001b[0m\u001b[0m\n\u001b[0;32m----> 6\u001b[0;31m \u001b[0mA\u001b[0m \u001b[0;34m=\u001b[0m \u001b[0mX\u001b[0m\u001b[0;34m*\u001b[0m\u001b[0;34m(\u001b[0m\u001b[0mnp\u001b[0m\u001b[0;34m.\u001b[0m\u001b[0mlinalg\u001b[0m\u001b[0;34m.\u001b[0m\u001b[0minv\u001b[0m\u001b[0;34m(\u001b[0m\u001b[0mxt\u001b[0m\u001b[0;34m)\u001b[0m\u001b[0;34m)\u001b[0m\u001b[0;34m\u001b[0m\u001b[0;34m\u001b[0m\u001b[0m\n\u001b[0m\u001b[1;32m      7\u001b[0m \u001b[0mwb\u001b[0m \u001b[0;34m=\u001b[0m \u001b[0mnp\u001b[0m\u001b[0;34m.\u001b[0m\u001b[0mlinalg\u001b[0m\u001b[0;34m.\u001b[0m\u001b[0msolve\u001b[0m\u001b[0;34m(\u001b[0m\u001b[0mX\u001b[0m\u001b[0;34m,\u001b[0m \u001b[0mY_train\u001b[0m\u001b[0;34m)\u001b[0m\u001b[0;34m\u001b[0m\u001b[0;34m\u001b[0m\u001b[0m\n\u001b[1;32m      8\u001b[0m \u001b[0mprint\u001b[0m\u001b[0;34m(\u001b[0m\u001b[0mwb\u001b[0m\u001b[0;34m)\u001b[0m\u001b[0;34m\u001b[0m\u001b[0;34m\u001b[0m\u001b[0m\n",
      "\u001b[0;32m<__array_function__ internals>\u001b[0m in \u001b[0;36minv\u001b[0;34m(*args, **kwargs)\u001b[0m\n",
      "\u001b[0;32m~/anaconda3/lib/python3.7/site-packages/numpy/linalg/linalg.py\u001b[0m in \u001b[0;36minv\u001b[0;34m(a)\u001b[0m\n\u001b[1;32m    540\u001b[0m     \u001b[0ma\u001b[0m\u001b[0;34m,\u001b[0m \u001b[0mwrap\u001b[0m \u001b[0;34m=\u001b[0m \u001b[0m_makearray\u001b[0m\u001b[0;34m(\u001b[0m\u001b[0ma\u001b[0m\u001b[0;34m)\u001b[0m\u001b[0;34m\u001b[0m\u001b[0;34m\u001b[0m\u001b[0m\n\u001b[1;32m    541\u001b[0m     \u001b[0m_assert_stacked_2d\u001b[0m\u001b[0;34m(\u001b[0m\u001b[0ma\u001b[0m\u001b[0;34m)\u001b[0m\u001b[0;34m\u001b[0m\u001b[0;34m\u001b[0m\u001b[0m\n\u001b[0;32m--> 542\u001b[0;31m     \u001b[0m_assert_stacked_square\u001b[0m\u001b[0;34m(\u001b[0m\u001b[0ma\u001b[0m\u001b[0;34m)\u001b[0m\u001b[0;34m\u001b[0m\u001b[0;34m\u001b[0m\u001b[0m\n\u001b[0m\u001b[1;32m    543\u001b[0m     \u001b[0mt\u001b[0m\u001b[0;34m,\u001b[0m \u001b[0mresult_t\u001b[0m \u001b[0;34m=\u001b[0m \u001b[0m_commonType\u001b[0m\u001b[0;34m(\u001b[0m\u001b[0ma\u001b[0m\u001b[0;34m)\u001b[0m\u001b[0;34m\u001b[0m\u001b[0;34m\u001b[0m\u001b[0m\n\u001b[1;32m    544\u001b[0m \u001b[0;34m\u001b[0m\u001b[0m\n",
      "\u001b[0;32m~/anaconda3/lib/python3.7/site-packages/numpy/linalg/linalg.py\u001b[0m in \u001b[0;36m_assert_stacked_square\u001b[0;34m(*arrays)\u001b[0m\n\u001b[1;32m    211\u001b[0m         \u001b[0mm\u001b[0m\u001b[0;34m,\u001b[0m \u001b[0mn\u001b[0m \u001b[0;34m=\u001b[0m \u001b[0ma\u001b[0m\u001b[0;34m.\u001b[0m\u001b[0mshape\u001b[0m\u001b[0;34m[\u001b[0m\u001b[0;34m-\u001b[0m\u001b[0;36m2\u001b[0m\u001b[0;34m:\u001b[0m\u001b[0;34m]\u001b[0m\u001b[0;34m\u001b[0m\u001b[0;34m\u001b[0m\u001b[0m\n\u001b[1;32m    212\u001b[0m         \u001b[0;32mif\u001b[0m \u001b[0mm\u001b[0m \u001b[0;34m!=\u001b[0m \u001b[0mn\u001b[0m\u001b[0;34m:\u001b[0m\u001b[0;34m\u001b[0m\u001b[0;34m\u001b[0m\u001b[0m\n\u001b[0;32m--> 213\u001b[0;31m             \u001b[0;32mraise\u001b[0m \u001b[0mLinAlgError\u001b[0m\u001b[0;34m(\u001b[0m\u001b[0;34m'Last 2 dimensions of the array must be square'\u001b[0m\u001b[0;34m)\u001b[0m\u001b[0;34m\u001b[0m\u001b[0;34m\u001b[0m\u001b[0m\n\u001b[0m\u001b[1;32m    214\u001b[0m \u001b[0;34m\u001b[0m\u001b[0m\n\u001b[1;32m    215\u001b[0m \u001b[0;32mdef\u001b[0m \u001b[0m_assert_finite\u001b[0m\u001b[0;34m(\u001b[0m\u001b[0;34m*\u001b[0m\u001b[0marrays\u001b[0m\u001b[0;34m)\u001b[0m\u001b[0;34m:\u001b[0m\u001b[0;34m\u001b[0m\u001b[0;34m\u001b[0m\u001b[0m\n",
      "\u001b[0;31mLinAlgError\u001b[0m: Last 2 dimensions of the array must be square"
     ]
    }
   ],
   "source": [
    "#ones = np.ones(1,1)\n",
    "x = X_train.reshape(len(X_train), 1)\n",
    "xt = x.T\n",
    "X = xt*x\n",
    "#Xinv = np.linalg.inv(X)\n",
    "A = X*(np.linalg.inv(xt))\n",
    "wb = np.linalg.solve(X, Y_train)\n",
    "print(wb)"
   ]
  },
  {
   "cell_type": "code",
   "execution_count": null,
   "metadata": {},
   "outputs": [],
   "source": [
    "xt.shape"
   ]
  }
 ],
 "metadata": {
  "kernelspec": {
   "display_name": "Python 3",
   "language": "python",
   "name": "python3"
  },
  "language_info": {
   "codemirror_mode": {
    "name": "ipython",
    "version": 3
   },
   "file_extension": ".py",
   "mimetype": "text/x-python",
   "name": "python",
   "nbconvert_exporter": "python",
   "pygments_lexer": "ipython3",
   "version": "3.7.6"
  }
 },
 "nbformat": 4,
 "nbformat_minor": 4
}
