{
 "cells": [
  {
   "cell_type": "markdown",
   "metadata": {},
   "source": [
    "H3.1 Least-squares solution via gradient computation for a convolutional system:  \n",
    "(a) Linear system:Let us consider a linear model $y=Wx+b$, where W is an $m×d$ matrix and $b∈R_m$. Write an expression for the optimal values of $W,b$ that minimize the following cost function:\n",
    "$$ J(W,\\mathbf{b}) = \\frac{1}{2} || y- W\\mathbf{x}  - \\mathbf{b}||^2$$"
   ]
  },
  {
   "cell_type": "markdown",
   "metadata": {},
   "source": [
    "To find the optimal solutions we must find the gradient of J w.r.t $W$ and $\\mathbf{b}$. This is can be done by solving for the partials $\\partial J /\\partial W_{ij}$ and $\\partial J /\\partial b_i$. First we rewrite $J(W,\\mathbf{b})$ to make finding the partial easier.\n",
    "$$J(W, \\mathbf{b}) = \\frac{1}{2} \\sum_i \\left(y_i - \\sum_jW_{ij}x_{j} - b_i\\right)^2 $$\n",
    "From the equation above we can see only one term from the outer summation will contribute to the partials.\n",
    "$$\\frac{\\partial J}{\\partial W_{ij}} = \\frac{\\partial}{\\partial W_{ij}} \\left[\\frac{1}{2}\\left(y_i - \\sum_jW_{ij}x_{j} - b_i\\right)^2 \\right] \\\\ = -x_j(y_i - \\sum_j W_{ij}x_j - b_i)$$\n",
    "$$\\frac{\\partial J}{\\partial b_i} = \\frac{\\partial}{\\partial b_i} \\left[\\frac{1}{2}\\left(y_i - \\sum_jW_{ij}x_{j} - b_i\\right)^2 \\right] \\\\ = -(y_i - \\sum_j W_{ij}x_j - b_i)$$\n",
    "\n",
    "Setting the two equations to zero and subtracting them gives,\n",
    "$$ 0 = -(x_j -1)y_i +(x_j-1)\\sum_j W_{ij}x_j + (x_j-1)b_i$$\n",
    "This is exactly equal to $y_i = \\sum_j W_{ij}x_j + b_i$ which is the equation of our linear model. Therefore the optimal values of $W$ and $\\mathbf{b}$ are when $-\\sum_jW_{ij}x_j = b_i$ so $y = 0$ and $J(W,\\mathbf{b}) = 0$."
   ]
  },
  {
   "cell_type": "markdown",
   "metadata": {},
   "source": [
    "(b) Convolutional system:Let us consider the following linear model $y = Wx+\\mathbf{b}$, where $W$ is a Toeplitz matrix corresponding to a filter $w$ of length $k$. We can write the $d+k−1×d$ Toeplitz matrix as\n",
    "$$W = \\begin{bmatrix} \\mathbf{w}_1 & 0 & 0 & \\cdots & 0 & 0 \\\\\n",
    "                      \\mathbf{w}_2 & \\mathbf{w}_1 & 0 & \\cdots & 0 & 0 \\\\\n",
    "                      \\mathbf{w}_3 & \\mathbf{w}_2 & \\mathbf{w}_1 & \\cdots & 0 & 0 \\\\\n",
    "                      \\vdots & \\vdots & \\vdots & \\ddots & \\vdots & \\vdots \\\\\n",
    "                      \\mathbf{w}_k & \\mathbf{w}_{k-1} & \\mathbf{w}_{k-2} & \\cdots & \\cdots & \\cdots \\\\\n",
    "                      0 & \\mathbf{w}_k & \\mathbf{w}_{k-1} & \\ddots & \\cdots & \\vdots \\\\\n",
    "                      0 & 0 & \\mathbf{w}_k & \\ddots & \\cdots & \\vdots \\\\\n",
    "                      \\vdots & \\vdots & \\vdots & \\ddots & \\vdots & \\vdots \\\\\n",
    "                      0 & 0 & 0 & \\cdots & \\mathbf{w}_k & \\mathbf{w}_{k-1} \\\\\n",
    "                      0 & 0 & 0 & \\cdots& 0 & \\mathbf{w}_k \\end{bmatrix} $$  \n",
    "We can also define the linear model above as $\\mathbf{y} = \\mathbf{w}*\\mathbf{x} + \\mathbf{b}$, where $\\mathbf{w}*\\mathbf{x}$ denotes the convolution of two vectors that can be defined as \n",
    "$$ (\\mathbf{w}*\\mathbf{x})_j = \\sum_{i=1}^d \\mathbf{x}_i\\mathbf{w}_{j-i+1},$$  \n",
    "where $\\mathbf{w}_i$ denotes the $i$th entry in the vector $\\mathbf{w}$ and $\\mathbf{w}_i = 0 \\text{ for } i < 1 \\text{ and } i > k$. With our definition above, we assume that j is only valid for  $1\\leq j \\leq d+k-1$.  \n",
    "Derive an expression for the optimal values of $\\mathbf{w},\\mathbf{b}$ that minimize the following cost function:\n",
    "$$ J(W,\\mathbf{b}) = \\frac{1}{2}||\\mathbf{y} - \\mathbf{w}*\\mathbf{x} - \\mathbf{b}||^2.$$"
   ]
  },
  {
   "cell_type": "markdown",
   "metadata": {},
   "source": [
    "Like part (a) we are going to derive expressions for $\\partial J/\\partial \\mathbf{w}_i$ and $\\partial J/\\partial \\mathbf{b}_i$. Additionally, we are going to rewrite $J$.  \n",
    "$$ J(W, \\mathbf{b}) = \\frac{1}{2} \\sum_{j=1}^{d+k-1} \\left(y_i - \\sum_{i=1}^d \\mathbf{x}_i\\mathbf{w}_{j-i+1} - b_i\\right)^2 $$\n",
    "  \n",
    "$$\\frac{\\partial J}{\\partial \\mathbf{w}_i} = -\\sum_{j=1}^{d+k-1} \\left(y- \\sum_{i=1}^d \\mathbf{x}_i\\mathbf{w}_{j-i+1} - b_i\\right)x_i$$\n",
    "$$ \\frac{\\partial J}{\\partial \\mathbf{w}_i} = \\sum_{j=1}^{d+k-1} \\left(y- \\sum_{i=1}^d \\mathbf{x}_i\\mathbf{w}_{j-i+1} - b_i\\right)$$\n",
    "This gives simiar results to (a). $\\mathbf{w}$ and $\\mathbf{b}$ are when $-\\mathbf{w}*\\mathbf{x} = b$."
   ]
  },
  {
   "cell_type": "code",
   "execution_count": null,
   "metadata": {},
   "outputs": [],
   "source": []
  },
  {
   "cell_type": "markdown",
   "metadata": {},
   "source": [
    "H3.2 In this question, we will learn how to implement backpropagation (or backprop) for “vanilla” neural networks (or Multi-Layer Perceptrons). You will begin by writing the forward and backward passes for different types of layers and then go on to train a shallow ConvNet on the CIFAR-10 dataset in Python.  \n",
    "(a) The iPython notebook two_layer_net.ipynb will walk you through implementing a two-layer neural network on CIFAR-10. You will write a hard-coded 2-layer neural network, implement its backward pass, and tune its hyperparameters.  \n",
    "The structure of the two layer fully connected network is: input→fully-connected-layer→ReLU activation→fully-connected-layer→softmax. If $x$ is input to the network as a row vector then the forward propagation calculates a prediction vector $\\hat y $ as follows:\n",
    "$$h_1 = \\text{ReLU}(xW_1 + b_1) \\\\\n",
    "\\hat y = \\text{softmax}(h_1W_2 + b_2)$$  \n",
    "where $h_1$ is the intermediate output in the hidden layer, $W_1$, $b_1$ and $W_2$, $b_2$ are first and second layer weights and biases respectively. Note that these definitions are “transposed” version of the notations we used in our lecture. For a vector of length $d,W_1$ will be a $d×K_1$, where $d$ is the size of input vector and $K_1$ is the output size of the first layer.\n"
   ]
  },
  {
   "cell_type": "markdown",
   "metadata": {},
   "source": [
    "Turned in as a seperate zip file with parts (a) - (c) combined"
   ]
  },
  {
   "cell_type": "markdown",
   "metadata": {},
   "source": [
    "H3.3 In this question you will solve the XOR problem using 2-layer neural network using ReLu nonlinearities. Remember that in the class, we used step/sign nonlinearities.  \n",
    "Suppose you are given four training samples from $\\mathbb{R}^2$ distributed in an XOR pattern"
   ]
  },
  {
   "cell_type": "markdown",
   "metadata": {},
   "source": [
    "(a) Write down the values of $W^1,W^2, b^1, b^2$ that you think will correctly classify data."
   ]
  },
  {
   "cell_type": "markdown",
   "metadata": {},
   "source": [
    "$$\n",
    "W^1 = \\begin{bmatrix} -1 & -2 \\\\ 1 & 1 \\end{bmatrix} \\qquad W^2 = \\begin{bmatrix} 0.5 & 2 \\end{bmatrix} \\\\\n",
    "b^1 = \\begin{bmatrix} 1\\\\ -1 \\end{bmatrix} \\qquad b^2 = -1\n",
    "$$"
   ]
  },
  {
   "cell_type": "code",
   "execution_count": 79,
   "metadata": {},
   "outputs": [],
   "source": [
    "import numpy as np\n",
    "\n",
    "x = np.array([[-1, -1], \n",
    "              [-1, 1], \n",
    "              [1, -1],\n",
    "              [1, 1]])\n",
    "W1 = np.array([[-1, -2], \n",
    "               [1, 1]])\n",
    "W2 = np.array([[0.5, 2]])\n",
    "b1 = np.array([[1], [-1]])\n",
    "b2 = -1"
   ]
  },
  {
   "cell_type": "markdown",
   "metadata": {},
   "source": [
    "(b) Plot a decision boundary for the first node in layer 1; that is, $w^1_{11}x(1) + w^1_{12}x(2) + b^1_1 = 0$"
   ]
  },
  {
   "cell_type": "code",
   "execution_count": 187,
   "metadata": {},
   "outputs": [
    {
     "data": {
      "image/png": "[encoded data removed]",
      "text/plain": [
       "<Figure size 432x288 with 1 Axes>"
      ]
     },
     "metadata": {
      "needs_background": "light"
     },
     "output_type": "display_data"
    },
    {
     "data": {
      "image/png": "[encoded data removed]",
      "text/plain": [
       "<Figure size 432x288 with 1 Axes>"
      ]
     },
     "metadata": {
      "needs_background": "light"
     },
     "output_type": "display_data"
    },
    {
     "data": {
      "image/png": "[encoded data removed]",
      "text/plain": [
       "<Figure size 432x288 with 1 Axes>"
      ]
     },
     "metadata": {
      "needs_background": "light"
     },
     "output_type": "display_data"
    }
   ],
   "source": [
    "import matplotlib as mpl\n",
    "import matplotlib.pyplot as plt\n",
    "\n",
    "# z1 = np.matmul(W1, x.T) + b1\n",
    "# y1 = np.maximum(0,z1)\n",
    "# z2 = np.matmul(W2,y1) + b2\n",
    "# y2 = np.maximum(0,z2)\n",
    "\n",
    "k = 101\n",
    "p1 = []\n",
    "p2 = []\n",
    "for x1 in np.linspace(-2, 2, k):\n",
    "    for x2 in np.linspace(-2,2,k):\n",
    "        x = np.array([[x1, x2]])\n",
    "        z1 = (np.matmul(W1,x.T) + b1).reshape(2,)\n",
    "        if(abs(z1[0]) < 0.01):\n",
    "            p1.append((x1,x2))\n",
    "        if(abs(z1[1]) < 0.01):\n",
    "            p2.append((x1,x2))\n",
    "p1 = np.array(p1)\n",
    "p2 = np.array(p2)\n",
    "        \n",
    "p3 =  []\n",
    "for y1 in np.linspace(-5, 5, k):\n",
    "    for y2 in np.linspace(-5,5,k):\n",
    "        y = np.array([[y1, y2]])\n",
    "        z2 = (np.matmul(W2,y.T) + b2).reshape(1,)\n",
    "        if(abs(z2) < 0.01):\n",
    "            p3.append((y1,y1))\n",
    "p3 = np.array(p3)\n",
    "\n",
    "\n",
    "fig1 = plt.figure()\n",
    "fig2 = plt.figure()\n",
    "fig3 = plt.figure()\n",
    "\n",
    "ax1 = fig1.add_subplot(111)\n",
    "ax1.plot(p1[:,0], p1[:,1])\n",
    "ax1.scatter([1, -1], [-1, 1], label='0', c='blue')\n",
    "ax1.scatter([-1, 1], [-1, 1], label='1', c='red')\n",
    "# ax1.set_xlim(-1,1)\n",
    "ax1.set_xlabel('x(1)')\n",
    "ax1.set_ylabel('x(2)')\n",
    "\n",
    "ax2 = fig2.add_subplot(111)\n",
    "ax2.plot(p2[:,0], p2[:,1])\n",
    "ax2.scatter([1, -1], [-1, 1], label='0', c='blue')\n",
    "ax2.scatter([-1, 1], [-1, 1], label='1', c='red')\n",
    "# ax2.set_xlim(0,1)\n",
    "ax2.set_xlabel('x(1)')\n",
    "ax2.set_ylabel('x(2)')\n",
    "\n",
    "ax3 = fig3.add_subplot(111)\n",
    "ax3.plot(p3)\n",
    "# ax3.set_xlim(0,1)\n",
    "ax3.set_xlabel('y(1)')\n",
    "ax3.set_ylabel('y(2)')\n",
    "plt.show()"
   ]
  },
  {
   "cell_type": "code",
   "execution_count": null,
   "metadata": {},
   "outputs": [],
   "source": []
  }
 ],
 "metadata": {
  "kernelspec": {
   "display_name": "Python 3",
   "language": "python",
   "name": "python3"
  },
  "language_info": {
   "codemirror_mode": {
    "name": "ipython",
    "version": 3
   },
   "file_extension": ".py",
   "mimetype": "text/x-python",
   "name": "python",
   "nbconvert_exporter": "python",
   "pygments_lexer": "ipython3",
   "version": "3.7.6"
  }
 },
 "nbformat": 4,
 "nbformat_minor": 4
}
