{
 "cells": [
  {
   "cell_type": "markdown",
   "metadata": {},
   "source": [
    "H 2.1 Logistic regression: Suppose we have labeled data(xi,yi), where **x**<sub>i</sub>∈Rd,y∈{0,1}. We want to compute **w** that minimizes the following negative log-likelihood function:  \n",
    "\n",
    "$$\\text{minimize}_w\\sum y_{i}log(1+exp(-w^Tx_{i})) + (1-y_i)log(1+exp(w^Tx_i))$$\n",
    "\n",
    "Let us denote the objective of this function as J(w). (Note that we could also define y_i∈{−1,1} and rewrite the objective in (1) as J(w) = $\\sum log(1+exp(-y_iw^Tx_{i}))$"
   ]
  },
  {
   "cell_type": "markdown",
   "metadata": {},
   "source": [
    "(a) Show the the following log-logistic function is convex:  \n",
    "$$f(w) = log(1+exp(-w^Tx))$$  \n",
    "\n",
    "You may assume that __x__ is a scalar and show that the second derivative of $f(\\mathbf{w})$ w.r.t. __w__ is always positive."
   ]
  },
  {
   "cell_type": "markdown",
   "metadata": {},
   "source": [
    "$$\n",
    "\\begin{gather*}\n",
    "\\frac{\\partial f(w)}{\\partial w} = \\frac{\\partial}{\\partial w} log(1 + e^{(-w^Tx)}) \\\\\n",
    "\\frac{\\partial f(w)}{\\partial w} = \\frac{e^{(-w^Tx)}*-x}{1+e^{(-w^Tx)}} \\\\\n",
    "\\\\\n",
    "\\frac{\\partial^2 f(w)}{\\partial w} = \\frac{\\partial}{\\partial w}\\frac{e^{(-w^Tx)}*-x}{1+e^{(-w^Tx)}} \\\\\n",
    "\\frac{\\partial^2 f(w)}{\\partial w} = -x[(x)(e^{(-w^Tx)})^2(1+e^{(-w^Tx)})^{-2} + (-x)e^{(-w^Tx)}(1+e^{-w^Tx})^{-1}] \\\\\n",
    "\\frac{\\partial^2 f(w)}{\\partial w} = x^2\\left[-\\left(\\frac{e^{(-w^Tx)}}{1+e^{(-w^Tx)}}\\right)^2 + \\frac{e^{(-w^Tx)}}{1+e^{(-w^Tx)}}\\right] \\\\\n",
    "\\frac{\\partial^2 f(w)}{\\partial w} = x^2\\left[\\frac{e^{(-w^Tx)} + e^{(-2w^Tx)} - e^{(-2w^Tx)}}{(1+e^{(-w^Tx)})^2} \\right] \\\\\n",
    "\\frac{\\partial^2 f(w)}{\\partial w} = x^2 \\left[ \\frac{e^{(-w^Tx)}}{(1+e^{(-w^Tx)})^2} \\right] \\\\\n",
    "\\text{Both terms are always greater than 0. Therefore, } \\\\\n",
    "\\frac{\\partial^2 f(w)}{\\partial w} \\geq 0\n",
    "\\end{gather*}\n",
    "$$"
   ]
  },
  {
   "cell_type": "markdown",
   "metadata": {},
   "source": [
    "(b) Next you will write a Python script for logistic regression that solves (1) using gradient descent algorithm with a fixed step size α. You will then use your code to learn to classify images of digits from the MNIST dataset.  \n",
    "\n",
    "You can show that the expression for $\\nabla_w J = - \\sum_{i=1}^N (y_i−h_w(x_i))x_i$, where $h(w) = \\frac{1}{1+e^{(-w^Tx)}}$"
   ]
  },
  {
   "cell_type": "code",
   "execution_count": 1,
   "metadata": {},
   "outputs": [],
   "source": [
    "import numpy as np\n",
    "import scipy.io as sio\n",
    "import matplotlib.pyplot as plt"
   ]
  },
  {
   "cell_type": "code",
   "execution_count": 2,
   "metadata": {},
   "outputs": [],
   "source": [
    "\n",
    "mnist =sio.loadmat('mnistoriginal.mat')\n",
    "data=mnist['data']\n",
    "label=mnist['label']\n",
    "data = (data - np.mean(data,axis=0))/(np.std(data,axis=0)+0.1)\n",
    "\n",
    "train_x = data[:,0:60000]\n",
    "train_y = label[0,0:60000]\n",
    "test_x = data[:,60000:70000]\n",
    "test_y = label[0,60000:70000]\n",
    "\n",
    "# Choose only two digits\n",
    "class_0=0\n",
    "class_1=1\n",
    "idx_train=[]\n",
    "for i in range (0,train_y.shape[0]):\n",
    "    if (train_y[i]==class_0) or (train_y[i]==class_1):\n",
    "        idx_train=np.append(idx_train,i)\n",
    "        \n",
    "idx_test=[]\n",
    "for i in range (0,test_y.shape[0]):\n",
    "    if (test_y[i]==class_0) or (test_y[i]==class_1):\n",
    "        idx_test=np.append(idx_test,i)\n",
    "                \n",
    "train_x=np.transpose(train_x)\n",
    "test_x=np.transpose(test_x)\n",
    "trainx=[]\n",
    "trainy=[]\n",
    "testx=[]\n",
    "testy=[]\n",
    "\n",
    "for i in range(0,idx_train.shape[0]):\n",
    "    trainx.append(train_x[np.int(idx_train[i]),:])\n",
    "    if train_y[np.int(idx_train[i])]==class_0:\n",
    "        trainy.append(0)\n",
    "    else:\n",
    "        trainy.append(1)\n",
    "        \n",
    "for i in range(0,idx_test.shape[0]):\n",
    "    testx.append(test_x[np.int(idx_test[i]),:])\n",
    "    if test_y[np.int(idx_test[i])]==class_0:\n",
    "        testy.append(0)\n",
    "    else:\n",
    "        testy.append(1)\n",
    "        \n",
    "train_x=np.array(trainx)\n",
    "train_y = np.array(trainy)\n",
    "test_x = np.array(testx)\n",
    "test_y = np.array(testy)\n",
    "\n",
    "train_x = np.insert(train_x,0,1,axis=1)\n",
    "test_x = np.insert(test_x,0,1,axis=1)"
   ]
  },
  {
   "cell_type": "code",
   "execution_count": 3,
   "metadata": {},
   "outputs": [],
   "source": [
    "def sigmoid(x):\n",
    "    return 1/(1+np.exp(-x))\n",
    "sigmoid_vec = np.vectorize(sigmoid)"
   ]
  },
  {
   "cell_type": "code",
   "execution_count": 4,
   "metadata": {},
   "outputs": [],
   "source": [
    "def gradient(w, x, y):\n",
    "    h = sigmoid_vec(np.matmul(x,w))\n",
    "    return -(np.matmul((y - h),x))"
   ]
  },
  {
   "cell_type": "code",
   "execution_count": 5,
   "metadata": {},
   "outputs": [],
   "source": [
    "def logistic_regression(w, x, y):\n",
    "    a = 0.000001\n",
    "    if(np.all(gradient(w,x,y) < 0)):\n",
    "        return logistic_regression(w - a*gradient(w,x,y),x,y)\n",
    "    else:\n",
    "        return w - a*gradient(w,x,y)"
   ]
  },
  {
   "cell_type": "code",
   "execution_count": 6,
   "metadata": {},
   "outputs": [
    {
     "name": "stdout",
     "output_type": "stream",
     "text": [
      "99.66903073286052\n"
     ]
    }
   ],
   "source": [
    "w = logistic_regression(np.zeros(train_x.shape[1]),train_x, train_y)\n",
    "predict = np.round(sigmoid_vec(np.matmul(test_x.astype(float),w)))\n",
    "acc =100.0*np.sum(test_y == predict)/test_y.shape[0]\n",
    "print(acc)"
   ]
  },
  {
   "cell_type": "markdown",
   "metadata": {},
   "source": [
    "H 2.2 Perceptron learning algorithm (PLA) and kernel extension: In this problem you will implement PLA to build a simple binary classification system. Suppose we have labeled data $(\\mathbf{x}_i, y_i)$, where $\\mathbf{x}_i ∈ R^{d+1}$ with $\\mathbf{x}_i(1) = 1$ and y ∈ {-1, +1}. Let us define $h_{\\mathbf{w}}(\\mathbf{x}_i) = sign(\\mathbf{w}^T\\mathbf{x}_i)$. We want to computer **w** using PLA.  <br><br>\n",
    "(a) Data Processing: Generate two examples of 2D *linearly separable* dataset with N = 100 samples each. (To do this, you will first generate a weight vector and constant term,w, and then assign ±1 labels to your data samples as $y_i=h_{\\mathbf{w}}(\\mathbf{x}_i)$.) Let us call the two datasets “Data1” and“Data2”. For Data1, randomly select 80% of the samples for training and the remaining 20% for testing on Data1 (80/20). For Data2, randomly select 30% of the samples for training and the remaining 70% for testing (30/70)."
   ]
  },
  {
   "cell_type": "code",
   "execution_count": 7,
   "metadata": {},
   "outputs": [],
   "source": [
    "N = 100\n",
    "w = np.random.rand(2)\n",
    "\n",
    "data1 = np.random.randn(N,2)\n",
    "data2 = np.random.randn(N,2)\n",
    "\n",
    "def h(x,w):\n",
    "    return np.sign(np.matmul(x,w))\n",
    "\n",
    "y1 = h(data1,w)\n",
    "y2 = h(data2,w)\n",
    "\n",
    "idx1 = np.random.choice(100, 100,replace=False)\n",
    "data1_train = data1[idx1[:80]]\n",
    "y1_train = y1[idx1[:80]]\n",
    "data1_test = data1[idx1[81:]]\n",
    "y1_test = y1[idx1[81:]]\n",
    "\n",
    "idx2 = np.random.choice(100,100, replace=False)\n",
    "data2_train = data2[idx2[:30]]\n",
    "y2_train = y2[idx2[:30]]\n",
    "data2_test = data2[idx2[31:]]\n",
    "y2_test = y2[idx2[31:]]"
   ]
  },
  {
   "cell_type": "markdown",
   "metadata": {},
   "source": [
    "(b) Implementation: Write a script for PLA in Python by initializing w = 0 and using the following update rule: <br>\n",
    "<center>\n",
    "$ \\text{for i=1,...,N} \\\\\n",
    "\\quad w = w+\\frac{1}{2}(y_i - h_w(x_i))x_i\n",
    "$\n",
    "</center>"
   ]
  },
  {
   "cell_type": "code",
   "execution_count": 8,
   "metadata": {},
   "outputs": [],
   "source": [
    "def PLA(x, y):\n",
    "    w = np.zeros(2)\n",
    "    N = x.shape[0]\n",
    "    for i in np.arange(0,N-1):\n",
    "        w = w+1/2*(y[i] - h(x[i,:],w))*x[i,:]\n",
    "    return w"
   ]
  },
  {
   "cell_type": "markdown",
   "metadata": {},
   "source": [
    "(c) Training: Use your PLA implementation to train two linear classifiers for Data1 and Data2 using the respective training samples. Plot the training samples, test samples, and separationlines for both examples in two separate plots."
   ]
  },
  {
   "cell_type": "code",
   "execution_count": 9,
   "metadata": {},
   "outputs": [
    {
     "name": "stdout",
     "output_type": "stream",
     "text": [
      "w1 =  [1.32779732 1.91327909] , w2 =  [2.2133388  2.86607866]\n"
     ]
    }
   ],
   "source": [
    "w1 = PLA(data1_train, y1_train)\n",
    "w2 = PLA(data2_train, y2_train)\n",
    "print('w1 = ', w1, ', w2 = ', w2)"
   ]
  },
  {
   "cell_type": "code",
   "execution_count": 10,
   "metadata": {},
   "outputs": [
    {
     "data": {
      "image/png": "[encoded data removed]",
      "text/plain": [
       "<Figure size 432x288 with 1 Axes>"
      ]
     },
     "metadata": {
      "needs_background": "light"
     },
     "output_type": "display_data"
    },
    {
     "data": {
      "image/png": "[encoded data removed]",
      "text/plain": [
       "<Figure size 432x288 with 1 Axes>"
      ]
     },
     "metadata": {
      "needs_background": "light"
     },
     "output_type": "display_data"
    }
   ],
   "source": [
    "\n",
    "\n",
    "fig1 = plt.figure()\n",
    "ax1 = fig1.add_subplot(111)\n",
    "ax1.scatter(data1_train[:,0], data1_train[:,1], label='Train Data1')\n",
    "ax1.scatter(data1_test[:,0], data1_test[:,1], label='Test Data1')\n",
    "H = []\n",
    "for x1 in np.linspace(-2,2, 101):\n",
    "    for x2 in np.linspace(-2,2, 101):\n",
    "        if(abs(np.matmul([x1,x2],w1)) < 0.01):\n",
    "            H.append([x1, x2])\n",
    "            break\n",
    "ax1.plot(np.array(H)[:,0],np.array(H)[:,1], label='Boundary', c='red')\n",
    "ax1.legend()\n",
    "\n",
    "fig2 = plt.figure()\n",
    "ax2 = fig2.add_subplot(111)\n",
    "ax2.scatter(data2_train[:,0], data2_train[:,1], label='Train Data2')\n",
    "ax2.scatter(data2_test[:,0], data2_test[:,1], label='Test Data2')\n",
    "H = []\n",
    "for x1 in np.linspace(-2,2, 101):\n",
    "    for x2 in np.linspace(-2,2, 101):\n",
    "        if(abs(np.matmul([x1,x2],w2)) < 0.01):\n",
    "            H.append([x1, x2])\n",
    "            break\n",
    "ax2.plot(np.array(H)[:,0],np.array(H)[:,1], label='Boundary', c='red')\n",
    "ax2.legend()\n",
    "fig1.suptitle('Data1')\n",
    "fig2.suptitle('Data2')\n",
    "plt.show()"
   ]
  },
  {
   "cell_type": "markdown",
   "metadata": {},
   "source": [
    "(d) Testing: Using the test samples in each example, compute precision, recall, and f1-score for your classifiers."
   ]
  },
  {
   "cell_type": "code",
   "execution_count": 11,
   "metadata": {},
   "outputs": [
    {
     "name": "stdout",
     "output_type": "stream",
     "text": [
      "f1 score for Data1:  1.0\n",
      "f1 score for Data2:  0.9927007299270074\n"
     ]
    }
   ],
   "source": [
    "y_test1 = h(data1_test, w1)\n",
    "tp1 = np.sum(y_test1 == y1_test)\n",
    "fp1 = np.sum(np.logical_and((y_test1 == 1),(y1_test == -1)))\n",
    "fn1 = np.sum(np.logical_and((y_test1 == -1), (y1_test == 1)))\n",
    "percision1 = tp1/(tp1+fp1)\n",
    "recall1 = tp1/(tp1+fn1)\n",
    "f11 = 2*(percision1*recall1)/(percision1+recall1)\n",
    "\n",
    "y_test2 = h(data2_test,w2)\n",
    "tp2 = np.sum(y_test2 == y2_test)\n",
    "fp2 = np.sum(np.logical_and((y_test2 == 1), (y2_test == -1)))\n",
    "fn2 = np.sum(np.logical_and((y_test2 == -1), (y2_test == 1)))\n",
    "percision2 = tp2/(tp2+fp2)\n",
    "recall2 = tp2/(tp2+fn2)\n",
    "f12 = 2*(percision2*recall2)/(percision2+recall2)\n",
    "\n",
    "print('f1 score for Data1: ', f11)\n",
    "print('f1 score for Data2: ', f12)"
   ]
  },
  {
   "cell_type": "markdown",
   "metadata": {},
   "source": [
    "(e) Kernel perceptron: Note that we can define the weight vector as $w=\\sum^N_{i=1}α_iy_ix_i$. We can view this as the dual perceptron in which we initialize $α_i= 0$ for i= 1,...,N and update them as follows. <br>\n",
    "<center>\n",
    "    $\\text{for j=1,...,N}\\\\\n",
    "    \\quad \\ \\hat{y} = \\text{sign}\\left( \\sum_{i=1}^N α_iy_ix_i^Tx_j \\right) \\\\\n",
    "    \\quad \\ \\text{if} \\ \\hat{y} \\neq y_j, \\text{ update } α_j = α_j + 1$"
   ]
  },
  {
   "cell_type": "code",
   "execution_count": 12,
   "metadata": {},
   "outputs": [],
   "source": [
    "a = np.zeros(N)\n",
    "for j in np.arange(0, N-1):\n",
    "    Y = np.sign(np.sum((a*y1)*np.matmul(data1[0,:],np.transpose(data1[0,:]))))\n",
    "    if(not(Y==y1[j])):\n",
    "        a[j] = a[j] + 1\n",
    "\n",
    "w = 0\n",
    "for i in range(N):\n",
    "    w = w+a[i]*y1[i]*data1[i,:]"
   ]
  },
  {
   "cell_type": "code",
   "execution_count": 13,
   "metadata": {
    "scrolled": true
   },
   "outputs": [
    {
     "data": {
      "image/png": "[encoded data removed]",
      "text/plain": [
       "<Figure size 432x288 with 1 Axes>"
      ]
     },
     "metadata": {
      "needs_background": "light"
     },
     "output_type": "display_data"
    }
   ],
   "source": [
    "fig = plt.figure()\n",
    "ax = fig.add_subplot(111)\n",
    "H = []\n",
    "G = []\n",
    "for x1 in np.linspace(-2,2, 1001):\n",
    "    for x2 in np.linspace(-2,2, 1001):\n",
    "        G.append(np.matmul([x1,x2],w))\n",
    "        if(abs(np.matmul([x1,x2],w)) < 0.01):\n",
    "            H.append([x1, x2])\n",
    "            break\n",
    "ax.plot(np.array(H)[:,0],np.array(H)[:,1], label='Boundary', c='red')\n",
    "ax.set_ylim(-2, 2)\n",
    "plt.show()"
   ]
  },
  {
   "cell_type": "markdown",
   "metadata": {},
   "source": [
    "H 2.3 Use a second degree polynomial kernel to classify four samples in 2D space, distributed in an XOR pattern (i.e., points on opposite diagonals of a rectangle have same labels, as shown in the table and figure below.) <br>\n",
    "<br>\n",
    "(a) Map 2D feature vectors $\\mathbf{x} = [\\mathbf{x}(1) \\mathbf{x}(2)]^T$ using kernel function $ K(x_1, x_2) = (1+x_1^Tx_2)^2$, which results in 6D feature vectors: $\\phi(x) = \\left[1 \\: \\sqrt{2}\\mathbf{x}(2) \\: \\sqrt{2}\\mathbf{x}(2) \\: \\mathbf{x}(1)^2  \\: \\mathbf{x}(2)^2 \\: \\sqrt{2}\\mathbf{x}(1)\\mathbf{x}(2) \\right]^T$. Show that the feature vectors are linearly seperable in the 6D space."
   ]
  },
  {
   "cell_type": "code",
   "execution_count": 14,
   "metadata": {},
   "outputs": [
    {
     "name": "stdout",
     "output_type": "stream",
     "text": [
      "Using 6D feature vectors and linear classifier, y = [ 1. -1. -1.  1.]\n",
      "6D feature vectors are linearly seperable\n"
     ]
    }
   ],
   "source": [
    "from numpy import sqrt as sqrt\n",
    "x = np.array([[-1, -1], [-1, 1], [1, -1], [1, 1]])\n",
    "y = np.array([1, -1, -1, 1])\n",
    "phi = []\n",
    "for i in range(x.shape[0]):\n",
    "    phi.append([1, sqrt(2)*x[i,0], sqrt(2)*x[i,1], np.square(x[i,0]), np.square(x[i,1]), sqrt(2)*x[i,0]*x[i,1]])\n",
    "phi = np.array(phi)\n",
    "w = np.array([1, 0, 0, 0, 0, 1])\n",
    "y_hat = np.sign(np.matmul(phi, w))\n",
    "print('Using 6D feature vectors and linear classifier, y =', y_hat)\n",
    "if(np.all(y_hat == y)):\n",
    "    print('6D feature vectors are linearly seperable')"
   ]
  },
  {
   "cell_type": "markdown",
   "metadata": {},
   "source": [
    "(b) The dual objective for SVM can be written as <br>\n",
    "$$\n",
    "    L(\\alpha)=-\\frac{1}{2}\\alpha^TG\\alpha + \\sum_{i=1}^4\\alpha_i\n",
    "$$\n",
    "where *G* is a 4 x 4 matrix with $G(i,j) = y_iy_j\\phi(x_i)^T\\phi(x_j)$.Compute *G* matrix and α that maximize *L(α)*."
   ]
  },
  {
   "cell_type": "code",
   "execution_count": 15,
   "metadata": {},
   "outputs": [],
   "source": [
    "G = np.zeros([4,4])\n",
    "for i in range(4):\n",
    "    for j in range(4):\n",
    "        G[i,j] = (y[i]*y[j]*np.matmul(phi[i],phi[j]))"
   ]
  },
  {
   "cell_type": "markdown",
   "metadata": {},
   "source": [
    "$$\n",
    "\\begin{split}\n",
    "\\nabla L & = \\left[ \\frac{\\partial L}{\\partial \\alpha_1}, \\frac{\\partial L}{\\partial \\alpha_2}, \\frac{\\partial L}{\\partial \\alpha_3}, \\frac{\\partial L}{\\partial \\alpha_4} \\right] \\\\\n",
    "& = \\frac{1}{2}\\begin{bmatrix} -18 & 2 & 2& -2 \\\\ 2 & -18 & -2 & 2 \\\\ 2 & -2 & -18 & 2 \\\\ -2 & 2 & 2 & -18 \\end{bmatrix} \\left[ \\alpha_1 \\ \\alpha_2 \\ \\alpha_3 \\ \\alpha_4 \\right]^T + [1 \\ 1 \\ 1 \\ 1]^T\n",
    "\\end{split}\n",
    "$$"
   ]
  },
  {
   "cell_type": "code",
   "execution_count": 16,
   "metadata": {},
   "outputs": [
    {
     "name": "stdout",
     "output_type": "stream",
     "text": [
      "α =  [0.125 0.125 0.125 0.125]\n"
     ]
    }
   ],
   "source": [
    "G_prime = 1/2*np.array([[-18, 2, 2, -2], [2, -18, -2, 2], [2, -2, -18, 2], [-2, 2, 2, -18]])\n",
    "a = np.linalg.solve(G_prime, [-1,-1,-1,-1])\n",
    "print('α = ', a)"
   ]
  },
  {
   "cell_type": "markdown",
   "metadata": {},
   "source": [
    "(c) Show that α computed in the previous step satisfies the following constrains: $\\alpha_i \\geq 0$ and $\\sum_i \\alpha_iy_i = 0$. <br>\n",
    "<br>\n",
    "It can be seen above $\\alpha_i \\geq 0$ for all i. <br>\n",
    "The summation is as follows."
   ]
  },
  {
   "cell_type": "code",
   "execution_count": 17,
   "metadata": {},
   "outputs": [
    {
     "data": {
      "text/plain": [
       "0.0"
      ]
     },
     "execution_count": 17,
     "metadata": {},
     "output_type": "execute_result"
    }
   ],
   "source": [
    "np.sum(a*y)"
   ]
  },
  {
   "cell_type": "markdown",
   "metadata": {},
   "source": [
    "(d) Compute the SVM weight vector $\\mathbf{w} = \\sum_i\\alpha_iy_i\\phi(\\mathbf{x}_i)$ and an expression for $h_{\\mathbf{w}}(\\mathbf{x}) = \\mathbf{w}^T\\phi(\\mathbf{x}) = \\sum_i\\alpha_iy_i\\phi(\\mathbf{x}_i)^T\\phi(\\mathbf{x})$. Plot __w__ and discuss which features in the 6D space have the highest effect on classifcation."
   ]
  },
  {
   "cell_type": "code",
   "execution_count": 18,
   "metadata": {},
   "outputs": [
    {
     "data": {
      "image/png": "[encoded data removed]",
      "text/plain": [
       "<Figure size 432x288 with 1 Axes>"
      ]
     },
     "metadata": {
      "needs_background": "light"
     },
     "output_type": "display_data"
    }
   ],
   "source": [
    "w = np.matmul(a*y,phi)\n",
    "fig = plt.figure()\n",
    "ax = fig.add_subplot(111)\n",
    "ax.stem(np.arange(1,7),w, use_line_collection=True)\n",
    "plt.show()"
   ]
  },
  {
   "cell_type": "markdown",
   "metadata": {},
   "source": [
    "In conclusion, the only feature that matters is the last feature. Using the last feature alone we can get a linear classifier."
   ]
  },
  {
   "cell_type": "markdown",
   "metadata": {},
   "source": [
    "H 2.4 Support vector machines (SVM): <br>\n",
    "In this problem you will use SVMs to build a simple text classification system."
   ]
  },
  {
   "cell_type": "code",
   "execution_count": 19,
   "metadata": {},
   "outputs": [],
   "source": [
    "from sklearn.datasets import fetch_openml\n",
    "mnist = fetch_openml('mnist_784', cache=False)"
   ]
  },
  {
   "cell_type": "code",
   "execution_count": 20,
   "metadata": {},
   "outputs": [],
   "source": [
    "X = mnist.data\n",
    "y = mnist.target.astype(np.int8)\n",
    "def show_mnist(X,y,j):\n",
    "    plt.title('The jth image is a {label}'.format(label=int(y[j])))\n",
    "    plt.imshow(X[j].reshape((28,28)), cmap='gray')\n",
    "    plt.axis('off')\n",
    "    plt.show()"
   ]
  },
  {
   "cell_type": "code",
   "execution_count": 21,
   "metadata": {},
   "outputs": [],
   "source": [
    "X4 = X[y==4,:]\n",
    "X9 = X[y==9,:]\n",
    "X_train = np.concatenate((X4[:4000], X9[:4000]))\n",
    "X_test = np.concatenate((X4[4001:], X9[4001:]))"
   ]
  },
  {
   "cell_type": "code",
   "execution_count": null,
   "metadata": {},
   "outputs": [],
   "source": [
    "from sklearn import svm\n",
    "clf = svm.SVC(C=1.0, kernel='linear')\n",
    "clf.fit(X,y)\n"
   ]
  }
 ],
 "metadata": {
  "kernelspec": {
   "display_name": "Python 3",
   "language": "python",
   "name": "python3"
  },
  "language_info": {
   "codemirror_mode": {
    "name": "ipython",
    "version": 3
   },
   "file_extension": ".py",
   "mimetype": "text/x-python",
   "name": "python",
   "nbconvert_exporter": "python",
   "pygments_lexer": "ipython3",
   "version": "3.7.6"
  }
 },
 "nbformat": 4,
 "nbformat_minor": 4
}
