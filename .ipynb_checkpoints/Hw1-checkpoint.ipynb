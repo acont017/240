{
 "cells": [
  {
   "cell_type": "code",
   "execution_count": 1,
   "metadata": {},
   "outputs": [],
   "source": [
    "import numpy as np\n",
    "import matplotlib.pyplot as plt"
   ]
  },
  {
   "cell_type": "markdown",
   "metadata": {},
   "source": [
    "H1.1"
   ]
  },
  {
   "cell_type": "code",
   "execution_count": 2,
   "metadata": {
    "scrolled": true
   },
   "outputs": [
    {
     "name": "stdout",
     "output_type": "stream",
     "text": [
      "3 selected coins: \n",
      " [[0 1 0 0 0 1 1 1 1 1]\n",
      " [0 0 1 0 0 1 0 1 0 1]\n",
      " [0 0 0 0 0 0 0 0 0 0]]\n"
     ]
    }
   ],
   "source": [
    "coins = np.random.randint(2, size=(1000,10))\n",
    "numHeads = np.sum(coins,axis=1)\n",
    "minIndex = np.argmin(numHeads)\n",
    "randIndex = np.random.randint(1000)\n",
    "C = np.array([coins[0], coins[randIndex], coins[minIndex]])\n",
    "print(\"3 selected coins: \\n\", C)"
   ]
  },
  {
   "cell_type": "markdown",
   "metadata": {},
   "source": [
    "(a) What is the proability of heads for the 3 selected coins?"
   ]
  },
  {
   "cell_type": "code",
   "execution_count": 3,
   "metadata": {},
   "outputs": [
    {
     "name": "stdout",
     "output_type": "stream",
     "text": [
      "Fraction of heads:  [0.6 0.4 0. ]\n",
      "Probability of heads :  [0.6 0.4 0. ]\n"
     ]
    }
   ],
   "source": [
    "v = np.array([sum(C[0])/np.sum(C), sum(C[1])/np.sum(C), sum(C[2])/np.sum(C)])\n",
    "mu = np.mean(C,axis=1)\n",
    "print(\"Fraction of heads: \", v)\n",
    "print(\"Probability of heads : \", mu)"
   ]
  },
  {
   "cell_type": "markdown",
   "metadata": {},
   "source": [
    "(b) Repeat this entire experiment a large number of times(e.g. 100,000 run of the entire experiment) to get several instances of v1,vrand, and vmin and plot the historgrams of the distributions of v1,vrand, and vmin."
   ]
  },
  {
   "cell_type": "code",
   "execution_count": 4,
   "metadata": {},
   "outputs": [],
   "source": [
    "N = 100000\n",
    "mu = np.empty([N,3])\n",
    "v = np.empty([N,3])"
   ]
  },
  {
   "cell_type": "code",
   "execution_count": 5,
   "metadata": {},
   "outputs": [],
   "source": [
    "for i in range(N):\n",
    "    coins = np.random.randint(2, size=(1000,10))\n",
    "    numHeads = np.sum(coins,axis=1)\n",
    "    minIndex = np.argmin(numHeads)\n",
    "    randIndex = np.random.randint(1000)\n",
    "    C = np.array([coins[0], coins[randIndex], coins[minIndex]])\n",
    "    mu[i,:] = np.mean(C,axis=1)\n",
    "    v[i,:] = np.array([sum(C[0])/np.sum(C), sum(C[1])/np.sum(C), sum(C[2])/np.sum(C)])"
   ]
  },
  {
   "cell_type": "code",
   "execution_count": 6,
   "metadata": {},
   "outputs": [
    {
     "data": {
      "text/plain": [
       "<matplotlib.legend.Legend at 0x7f28f454f790>"
      ]
     },
     "execution_count": 6,
     "metadata": {},
     "output_type": "execute_result"
    },
    {
     "data": {
      "image/png": "[encoded data removed]",
      "text/plain": [
       "<Figure size 432x288 with 1 Axes>"
      ]
     },
     "metadata": {
      "needs_background": "light"
     },
     "output_type": "display_data"
    }
   ],
   "source": [
    "fig = plt.figure()\n",
    "ax = plt.subplot(111)\n",
    "ax.hist(v, label=['$V_1$', '$V_{rand}$', '$V_{min}$'])\n",
    "ax.legend()"
   ]
  },
  {
   "cell_type": "markdown",
   "metadata": {},
   "source": [
    "  (c)"
   ]
  },
  {
   "cell_type": "code",
   "execution_count": 7,
   "metadata": {},
   "outputs": [],
   "source": [
    "p = np.zeros([3,100])\n",
    "eps = np.linspace(0.01, 1, 100)\n",
    "for i in range(100):\n",
    "    for j in range(N):\n",
    "        if(abs(v[j,0] - mu[j,0]) > eps[i]):\n",
    "            p[0,i] = p[0,i] + 1\n",
    "        if(abs(v[j,1] - mu[j,1]) > eps[i]):\n",
    "            p[1,i] = p[1,i] + 1\n",
    "        if(abs(v[j,2] - mu[j,2]) > eps[i]):\n",
    "            p[2,i] = p[2,i] + 1\n",
    "p = p/N      "
   ]
  },
  {
   "cell_type": "code",
   "execution_count": 8,
   "metadata": {},
   "outputs": [
    {
     "data": {
      "text/plain": [
       "<matplotlib.legend.Legend at 0x7f28f3850950>"
      ]
     },
     "execution_count": 8,
     "metadata": {},
     "output_type": "execute_result"
    },
    {
     "data": {
      "image/png": "[encoded data removed]",
      "text/plain": [
       "<Figure size 432x288 with 1 Axes>"
      ]
     },
     "metadata": {
      "needs_background": "light"
     },
     "output_type": "display_data"
    }
   ],
   "source": [
    "fig = plt.figure()\n",
    "ax = plt.subplot(111)\n",
    "ax.plot(eps, p[0,:], label='$c_1$')\n",
    "ax.plot(eps, p[1,:], label='$c_{rand}$')\n",
    "ax.plot(eps, p[2,:], label='$c_{min}$')\n",
    "y = 2*np.exp(-2*(eps**2)*1000)\n",
    "ax.plot(eps, y, label='Hoeffding')\n",
    "ax.set_ylim(0,1)\n",
    "ax.legend()"
   ]
  },
  {
   "cell_type": "markdown",
   "metadata": {},
   "source": [
    "(e)  \n",
    "Only the coin with lowest frequency of heads obeys Hoeffding bound. c1 and crand are virtually the same and do not obey the bound."
   ]
  },
  {
   "cell_type": "markdown",
   "metadata": {},
   "source": [
    "H1.2"
   ]
  },
  {
   "cell_type": "code",
   "execution_count": null,
   "metadata": {},
   "outputs": [],
   "source": []
  }
 ],
 "metadata": {
  "kernelspec": {
   "display_name": "Python 3",
   "language": "python",
   "name": "python3"
  },
  "language_info": {
   "codemirror_mode": {
    "name": "ipython",
    "version": 3
   },
   "file_extension": ".py",
   "mimetype": "text/x-python",
   "name": "python",
   "nbconvert_exporter": "python",
   "pygments_lexer": "ipython3",
   "version": "3.7.6"
  }
 },
 "nbformat": 4,
 "nbformat_minor": 4
}
