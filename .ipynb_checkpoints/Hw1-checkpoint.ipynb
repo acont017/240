{
 "cells": [
  {
   "cell_type": "code",
   "execution_count": 1,
   "metadata": {},
   "outputs": [],
   "source": [
    "import numpy as np\n",
    "import matplotlib.pyplot as plt\n",
    "from sklearn.datasets import fetch_openml\n",
    "import matplotlib as mpl"
   ]
  },
  {
   "cell_type": "markdown",
   "metadata": {},
   "source": [
    "H1.1"
   ]
  },
  {
   "cell_type": "code",
   "execution_count": 2,
   "metadata": {
    "scrolled": true
   },
   "outputs": [
    {
     "name": "stdout",
     "output_type": "stream",
     "text": [
      "3 selected coins: \n",
      " [[1 1 1 1 0 1 0 0 0 1]\n",
      " [1 1 0 1 0 1 1 0 1 0]\n",
      " [0 0 0 0 0 0 0 0 0 0]]\n"
     ]
    }
   ],
   "source": [
    "coins = np.random.randint(2, size=(1000,10))\n",
    "numHeads = np.sum(coins,axis=1)\n",
    "minIndex = np.argmin(numHeads)\n",
    "randIndex = np.random.randint(1000)\n",
    "C = np.array([coins[0], coins[randIndex], coins[minIndex]])\n",
    "print(\"3 selected coins: \\n\", C)"
   ]
  },
  {
   "cell_type": "markdown",
   "metadata": {},
   "source": [
    "(a) What is the proability of heads for the 3 selected coins?"
   ]
  },
  {
   "cell_type": "code",
   "execution_count": 3,
   "metadata": {},
   "outputs": [
    {
     "name": "stdout",
     "output_type": "stream",
     "text": [
      "Fraction of heads:  [0.6 0.6 0. ]\n",
      "Probability of heads :  0.5\n"
     ]
    }
   ],
   "source": [
    "v = np.array([sum(C[0])/10, sum(C[1])/10, sum(C[2])/10])\n",
    "mu = 0.5\n",
    "print(\"Fraction of heads: \", v)\n",
    "print(\"Probability of heads : \", mu)"
   ]
  },
  {
   "cell_type": "markdown",
   "metadata": {},
   "source": [
    "(b) Repeat this entire experiment a large number of times(e.g. 100,000 run of the entire experiment) to get several instances of v1,vrand, and vmin and plot the historgrams of the distributions of v1,vrand, and vmin."
   ]
  },
  {
   "cell_type": "code",
   "execution_count": 4,
   "metadata": {},
   "outputs": [],
   "source": [
    "N = 100000\n",
    "v = np.empty([N,3])"
   ]
  },
  {
   "cell_type": "code",
   "execution_count": 5,
   "metadata": {},
   "outputs": [],
   "source": [
    "for i in range(N):\n",
    "    coins = np.random.randint(2, size=(1000,10))\n",
    "    numHeads = np.sum(coins,axis=1)\n",
    "    minIndex = np.argmin(numHeads)\n",
    "    randIndex = np.random.randint(1000)\n",
    "    C = np.array([coins[0], coins[randIndex], coins[minIndex]])\n",
    "    v[i,:] = np.array([sum(C[0])/10, sum(C[1])/10, sum(C[2])/10])"
   ]
  },
  {
   "cell_type": "code",
   "execution_count": 6,
   "metadata": {},
   "outputs": [
    {
     "data": {
      "text/plain": [
       "<matplotlib.legend.Legend at 0x7f612acd2dd0>"
      ]
     },
     "execution_count": 6,
     "metadata": {},
     "output_type": "execute_result"
    },
    {
     "data": {
      "image/png": "[encoded data removed]",
      "text/plain": [
       "<Figure size 432x288 with 1 Axes>"
      ]
     },
     "metadata": {
      "needs_background": "light"
     },
     "output_type": "display_data"
    }
   ],
   "source": [
    "fig = plt.figure()\n",
    "ax = plt.subplot(111)\n",
    "ax.hist(v, label=['$V_1$', '$V_{rand}$', '$V_{min}$'])\n",
    "ax.legend()"
   ]
  },
  {
   "cell_type": "markdown",
   "metadata": {},
   "source": [
    "  (c)"
   ]
  },
  {
   "cell_type": "code",
   "execution_count": 8,
   "metadata": {},
   "outputs": [],
   "source": [
    "p = np.zeros([3,100])\n",
    "eps = np.linspace(0.01, 1, 100)\n",
    "for i in range(100):\n",
    "    for j in range(N):\n",
    "        if(abs(v[j,0] - mu) > eps[i]):\n",
    "            p[0,i] = p[0,i] + 1\n",
    "        if(abs(v[j,1] - mu) > eps[i]):\n",
    "            p[1,i] = p[1,i] + 1\n",
    "        if(abs(v[j,2] - mu) > eps[i]):\n",
    "            p[2,i] = p[2,i] + 1\n",
    "p = p/N      "
   ]
  },
  {
   "cell_type": "code",
   "execution_count": 9,
   "metadata": {},
   "outputs": [
    {
     "data": {
      "text/plain": [
       "<matplotlib.legend.Legend at 0x7f61295ac450>"
      ]
     },
     "execution_count": 9,
     "metadata": {},
     "output_type": "execute_result"
    },
    {
     "data": {
      "image/png": "[encoded data removed]",
      "text/plain": [
       "<Figure size 432x288 with 1 Axes>"
      ]
     },
     "metadata": {
      "needs_background": "light"
     },
     "output_type": "display_data"
    }
   ],
   "source": [
    "fig = plt.figure()\n",
    "ax = plt.subplot(111)\n",
    "ax.plot(eps, p[0,:], label='$c_1$')\n",
    "ax.plot(eps, p[1,:], label='$c_{rand}$')\n",
    "ax.plot(eps, p[2,:], label='$c_{min}$')\n",
    "y = 2*np.exp(-2*(eps**2)*10)\n",
    "ax.plot(eps, y, label='Hoeffding')\n",
    "ax.set_ylim(0,1)\n",
    "ax.legend()"
   ]
  },
  {
   "cell_type": "markdown",
   "metadata": {},
   "source": [
    "(e)  \n",
    "C<sub>min</sub> is not representative of an average coin and as a result does not obey Hoeffding bound. C<sub>1</sub> and C<sub>rand</sub> are overlapping and obey the bound."
   ]
  },
  {
   "cell_type": "markdown",
   "metadata": {},
   "source": [
    "H1.2  Posterior probability estimation for bin selection problem (curse of dimensionality)."
   ]
  },
  {
   "cell_type": "markdown",
   "metadata": {},
   "source": [
    "(a)  Suppose we have ten bins (four labeled A, six labeled B). Each bin has balls with two colors(red and blue). The distribution of red and blue balls in bin A is (0.3, 0.7). The distributionof red and blue balls in bin B is (0.7, 0.3). We randomly select a bin and draw two balls withreplacement. That is, we select a bin, pick one ball, put it back, and pick another ball from thesamebin. Estimate the probability that we selected bin A given the selected balls are red andblue."
   ]
  },
  {
   "cell_type": "code",
   "execution_count": 5,
   "metadata": {},
   "outputs": [
    {
     "name": "stdout",
     "output_type": "stream",
     "text": [
      "P(A | red & blue) ≅ 0.398964949423665\n"
     ]
    }
   ],
   "source": [
    "N = 10000\n",
    "C = np.empty([N,3])\n",
    "for i in range(N):\n",
    "    label = np.random.choice(2,1,p=[0.4,0.6])\n",
    "    # 0 is A. 1 is B.\n",
    "    if(label == 0):\n",
    "        A = np.random.choice(2,2,replace=True,p=[0.3, 0.7])\n",
    "        C[i,:] = [A[0], A[1], label]\n",
    "    else:\n",
    "        B = np.random.choice(2,2,replace=True,p=[0.7, 0.3])\n",
    "        C[i,:] = [B[0], B[1], label]\n",
    "    # 0 is red. 1 is blue.\n",
    "\n",
    "countA = 0\n",
    "countB = 0\n",
    "for i in range(N):\n",
    "    if((C[i,0] != C[i,1]) and (C[i,2] == 0)):\n",
    "        countA = countA + 1\n",
    "    elif((C[i,0] != C[i,1]) and (C[i,2] == 1)):\n",
    "        countB = countB + 1\n",
    "    else:\n",
    "        pass\n",
    "       \n",
    "p = countA/(countB+countA)\n",
    "print('P(A | red & blue) \\u2245', p)"
   ]
  },
  {
   "cell_type": "markdown",
   "metadata": {},
   "source": [
    "(b)  Suppose we have ten bins (four labeled A, six labeled B). Each bin has balls with four colors(red, blue, white, black). The distribution of balls in bin A is (0.1, 0.3, 0.2, 0.4). The distribution of balls in bin B is (0.4, 0.2, 0.3, 0.1). We randomly select a bin and draw two balls with replacement. Estimate the probability that we selected bin A given the selected balls are red and blue."
   ]
  },
  {
   "cell_type": "code",
   "execution_count": 16,
   "metadata": {},
   "outputs": [
    {
     "name": "stdout",
     "output_type": "stream",
     "text": [
      "P(A | red & blue) ≅ 0.2001111728738188\n"
     ]
    }
   ],
   "source": [
    "N = 30000\n",
    "C = np.empty([N,3])\n",
    "for i in range(N):\n",
    "    label = np.random.choice(2,1,p=[0.4,0.6])\n",
    "    # 0 is A. 1 is B.\n",
    "    if(label == 0):\n",
    "        A = np.random.choice(4,2,replace=True,p=[0.1, 0.3, 0.2, 0.4])\n",
    "        C[i,:] = [A[0], A[1], label]\n",
    "    else:\n",
    "        B = np.random.choice(4,2,replace=True,p=[0.4, 0.2, 0.3, 0.1])\n",
    "        C[i,:] = [B[0], B[1], label]\n",
    "    # 0 is red. 1 is blue. 2 is white. 3 is black.\n",
    "\n",
    "countA = 0\n",
    "countB = 0\n",
    "for i in range(N):\n",
    "    if((np.array_equal(C[i,:], [0, 1, 0])) or (np.array_equal(C[i,:], [1,0,0]))):\n",
    "        countA = countA + 1\n",
    "    elif((np.array_equal(C[i,:], [0, 1, 1])) or (np.array_equal(C[i,:], [1,0,1]))):\n",
    "        countB = countB + 1\n",
    "    else:\n",
    "        pass\n",
    "    \n",
    "p = countA/(countB+countA)\n",
    "print('P(A | red & blue) \\u2245', p)"
   ]
  },
  {
   "cell_type": "markdown",
   "metadata": {},
   "source": [
    "H1.3 Let us consider the problem of nearest-mean classifier. Suppose we are givenNtraining samples(x1,y1),...,(xN,yN)from two classes withyn∈{+1,−1}. We saw in lecture 2 that we can decide alabel for a test vector x as g(x) =sign(w<sup>T</sup>x+b), where w= 2(μ<sub>+</sub>−μ<sub>−</sub>)and b=‖μ<sub>−</sub>‖<sup>2</sup><sub>2</sub>−‖μ<sub>+</sub>‖<sup>2</sup><sub>2</sub>.  μ<sub>+</sub> is a mean vector for samples in the +ve class and μ<sub>−</sub> is a mean vector for samples the −ve class.  Show that w<sup>T</sup>x+b≡∑<sup>N</sup><sub>n=1</sub>α<sub>n</sub>〈x<sub>n</sub>,x〉+ b and calculate the values of the α<sub>n</sub>."
   ]
  },
  {
   "cell_type": "markdown",
   "metadata": {},
   "source": [
    "〈x<sub>n</sub>,x〉= x<sub>n,1</sub>x<sub>1</sub> + ... + x<sub>n,n</sub>x<sub>n</sub>  \n",
    "W<sup>T</sup>x = w<sub>1</sub>x<sub>1</sub> + ... + w<sub>n</sub>x<sub>n</sub>  \n",
    "  \n",
    "Thus if we can find α<sub>n</sub> for each vector of x such that w<sub>n</sub> = x<sub>n</sub>α<sub>n</sub>, the two equations are equal.  \n",
    "  \n",
    "Given w = 2(μ<sub>+</sub>−μ<sub>−</sub>) we can solve for α.  \n",
    "α<sub>n</sub> = 2 , when x<sub>n</sub> belongs to the + ve class.  \n",
    "α<sub>n</sub> = -2 , when x<sub>n</sub> belongs to the - ve class."
   ]
  },
  {
   "cell_type": "markdown",
   "metadata": {},
   "source": [
    "H1.4 (a) Implement a function that finds the K nearest neighbors of any given test digit, and classifies itaccording to a majority vote of their class labels. Construct a training set with 200 examples ofeach class (N= 600total examples). What is the empirical accuracy (fraction of data classifiedcorrectly) of 1-NN and 3-NN classifiers on the test examples from these classes?"
   ]
  },
  {
   "cell_type": "code",
   "execution_count": 2,
   "metadata": {},
   "outputs": [],
   "source": [
    "mnist = fetch_openml('mnist_784', version=1, cache=False)\n",
    "mnist.target = mnist.target.astype(np.int8)"
   ]
  },
  {
   "cell_type": "code",
   "execution_count": 3,
   "metadata": {},
   "outputs": [],
   "source": [
    "def Euc_dist(x,y):\n",
    "    d_2 = np.sum(np.add(x,-1*y)**2)\n",
    "    d = (d_2)**(1/2)\n",
    "    return d\n",
    "    \n",
    "def KNN(target, t_set, K):\n",
    "    d = np.zeros((np.size(t_set.data,0),1))\n",
    "    for i in range(np.size(t_set.data, 0)):\n",
    "        d[i] = Euc_dist(target, t_set.data[i])\n",
    "        \n",
    "    if(K == 1):\n",
    "        idx = np.argmin(d)\n",
    "        KNeighbors = t_set.label[idx]\n",
    "    else:\n",
    "        idx = np.argpartition(d, K, axis=0)\n",
    "        KNeighbors = t_set.label[idx[:K]]\n",
    "    \n",
    "    x = np.unique(KNeighbors)\n",
    "    \n",
    "    max_occurences = np.zeros(2)\n",
    "    for i in range(np.size(x)):\n",
    "        count = np.sum(KNeighbors == x[i])\n",
    "        if(count > max_occurences[0]):\n",
    "            max_occurences = np.array([count, x[i]])\n",
    "    return max_occurences\n",
    "        \n",
    "        "
   ]
  },
  {
   "cell_type": "code",
   "execution_count": 4,
   "metadata": {},
   "outputs": [],
   "source": [
    "loc_eight = np.argwhere(mnist.target == 8)\n",
    "loc_six = np.argwhere(mnist.target == 6)\n",
    "loc_one = np.argwhere(mnist.target == 1)\n",
    "train_loc = np.array([loc_eight[:200], loc_six[:200], loc_one[:200]]).flatten()\n",
    "\n",
    "test_loc = np.array([loc_eight[201:401], loc_six[201:401], loc_one[201:401]]).flatten()\n",
    "\n",
    "class training_set:\n",
    "    data = mnist.data[train_loc,:]\n",
    "    label = mnist.target[train_loc]\n",
    "    \n",
    "class test_set:\n",
    "    data = mnist.data[test_loc,:]\n",
    "    label = mnist.target[test_loc]\n"
   ]
  },
  {
   "cell_type": "code",
   "execution_count": 5,
   "metadata": {},
   "outputs": [
    {
     "name": "stdout",
     "output_type": "stream",
     "text": [
      "Accuracy for 1-NN:  98.33333333333333 %\n"
     ]
    }
   ],
   "source": [
    "p = 0\n",
    "N = len(test_set.label)\n",
    "for i in range(N):\n",
    "    result = KNN(test_set.data[i], training_set, 1)\n",
    "    if(result[1] == test_set.label[i]):\n",
    "        p = p + 1\n",
    "p = p/N\n",
    "print(\"Accuracy for 1-NN: \", p*100, \"%\")\n"
   ]
  },
  {
   "cell_type": "code",
   "execution_count": 6,
   "metadata": {},
   "outputs": [
    {
     "name": "stdout",
     "output_type": "stream",
     "text": [
      "Accuracy for 3-NN:  97.33055555555555 %\n"
     ]
    }
   ],
   "source": [
    "for i in range(N):\n",
    "    result = KNN(test_set.data[i], training_set, 3)\n",
    "    if(result[1] == test_set.label[i]):\n",
    "        p = p + 1\n",
    "p = p/N\n",
    "print(\"Accuracy for 3-NN: \", p*100, \"%\")"
   ]
  },
  {
   "cell_type": "markdown",
   "metadata": {},
   "source": [
    "(b) Plot 5 test digits that are correctly classified by the 1-NN classifier, and 5 which are incorrectly classified. Do you see any patterns?"
   ]
  },
  {
   "cell_type": "code",
   "execution_count": 10,
   "metadata": {},
   "outputs": [
    {
     "name": "stderr",
     "output_type": "stream",
     "text": [
      "/home/antonio/anaconda3/lib/python3.7/site-packages/ipykernel_launcher.py:13: MatplotlibDeprecationWarning: Adding an axes using the same arguments as a previous axes currently reuses the earlier instance.  In a future version, a new instance will always be created and returned.  Meanwhile, this warning can be suppressed, and the future behavior ensured, by passing a unique label to each axes instance.\n",
      "  del sys.path[0]\n"
     ]
    },
    {
     "data": {
      "image/png": "[encoded data removed]",
      "text/plain": [
       "<Figure size 432x288 with 1 Axes>"
      ]
     },
     "metadata": {
      "needs_background": "light"
     },
     "output_type": "display_data"
    }
   ],
   "source": [
    "p = 0\n",
    "N = len(test_set.label)\n",
    "k = 0\n",
    "j = 0\n",
    "fig = plt.figure()\n",
    "for i in range(N):\n",
    "    result = KNN(test_set.data[i], training_set, 1)\n",
    "    if(result[1] == test_set.label[i]):\n",
    "        p = p + 1\n",
    "        if (k < 5):\n",
    "            num = test_set.data[i]\n",
    "            num_image = num.reshape(28,28)\n",
    "            ax = plt.subplot(3,3,k+1)\n",
    "            ax.imshow(num_image, cmap = mpl.cm.binary,\n",
    "                        interpolation=\"nearest\")\n",
    "            ax.axis(\"off\")\n",
    "plt.show()"
   ]
  },
  {
   "cell_type": "code",
   "execution_count": null,
   "metadata": {},
   "outputs": [],
   "source": []
  }
 ],
 "metadata": {
  "kernelspec": {
   "display_name": "Python 3",
   "language": "python",
   "name": "python3"
  },
  "language_info": {
   "codemirror_mode": {
    "name": "ipython",
    "version": 3
   },
   "file_extension": ".py",
   "mimetype": "text/x-python",
   "name": "python",
   "nbconvert_exporter": "python",
   "pygments_lexer": "ipython3",
   "version": "3.7.6"
  }
 },
 "nbformat": 4,
 "nbformat_minor": 4
}
